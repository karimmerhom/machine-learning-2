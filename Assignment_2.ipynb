{
  "cells": [
    {
      "cell_type": "markdown",
      "metadata": {
        "id": "IBPyLOeDNh-2"
      },
      "source": [
        "<h1><center>CSEN1022:Assignment 2</center></h1>\n",
        "<h3><center>Winter 2021</center></h3>\n",
        "<hr style=\"border:2px solid black\"> </hr>"
      ]
    },
    {
      "cell_type": "markdown",
      "metadata": {
        "id": "7-Jb5odSNh-5"
      },
      "source": [
        "## <u> Please don't forget to fill in this data </u>\n",
        "**Member 1**\n",
        "\n",
        "Name: Shadi Nakhla\n",
        "\n",
        "GUC-ID:43-0411\n",
        "\n",
        "Elective Tutorial No.:T-01\n",
        "\n",
        "**Member 2**\n",
        "\n",
        "Name:Karim Ebrahim\n",
        "\n",
        "GUC-ID:43-0414\n",
        "\n",
        "Elective Tutorial No.:T-01\n",
        "\n",
        "<hr style=\"border:2px solid black\"> </hr>"
      ]
    },
    {
      "cell_type": "markdown",
      "metadata": {
        "id": "AB7vuLa_Nh-6"
      },
      "source": [
        "## Imports (Don't Edit)"
      ]
    },
    {
      "cell_type": "code",
      "execution_count": null,
      "metadata": {
        "id": "iRUDXuOMNh-7"
      },
      "outputs": [],
      "source": [
        "import numpy as np\n",
        "import matplotlib.pyplot as plt\n",
        "import cv2\n",
        "%matplotlib inline\n",
        "confusion_matrices_nb = []\n",
        "confusion_matrices_gm = []"
      ]
    },
    {
      "cell_type": "markdown",
      "metadata": {
        "id": "CJoL6F68Nh-8"
      },
      "source": [
        "## Read Data"
      ]
    },
    {
      "cell_type": "code",
      "execution_count": null,
      "metadata": {
        "id": "VdKtrsq-Qg13",
        "colab": {
          "base_uri": "https://localhost:8080/"
        },
        "outputId": "e00b97ab-fa90-4add-d665-6c478a3ab2ff"
      },
      "outputs": [
        {
          "output_type": "stream",
          "name": "stdout",
          "text": [
            "Archive:  Data.zip\n",
            "replace Data/test/airplane/0.jpg? [y]es, [n]o, [A]ll, [N]one, [r]ename: "
          ]
        }
      ],
      "source": [
        "!unzip Data.zip"
      ]
    },
    {
      "cell_type": "code",
      "execution_count": null,
      "metadata": {
        "id": "QcGBD-nBNh-8"
      },
      "outputs": [],
      "source": [
        "def fillMatrixNormalized (type):\n",
        "  matrix = np.array([plt.imread('Data/train/'+type+\"/\" +str(i)+'.jpg').reshape(-1) for i in range (0,5000)]) \n",
        "  matrix = np.true_divide(matrix, 255)\n",
        "  return(matrix)\n",
        "def test (type):\n",
        "  matrix = np.array([plt.imread('Data/test/'+type+\"/\" +str(i)+'.jpg').reshape(-1) for i in range (0,1000)])\n",
        "  matrix = np.true_divide(matrix, 255)\n",
        "  return(matrix)\n",
        "def meanCalculator (matrix):\n",
        "  return(np.transpose(matrix.mean(axis=0).reshape(-1,1)))\n",
        "def varianceCalculator (matrix):\n",
        "  return (np.transpose(matrix.var(axis=0).reshape(-1,1)))\n",
        "filledMatrixA = (fillMatrixNormalized(\"airplane\"))\n",
        "filledMatrixF = (fillMatrixNormalized(\"frog\"))\n",
        "filledMatrixM = (fillMatrixNormalized(\"automobile\"))\n",
        "filledMatrixATest = (test(\"airplane\"))\n",
        "filledMatrixFTest = (test(\"frog\"))\n",
        "filledMatrixMTest = (test(\"automobile\"))\n",
        "MeanAirplane=np.mean(filledMatrixA,axis=0)\n",
        "MeanAuto=np.mean(filledMatrixM,axis=0)\n",
        "MeanFrog=np.mean(filledMatrixF,axis=0)\n",
        "varAirplane=np.var(filledMatrixA,axis=0)\n",
        "varAuto=np.var(filledMatrixM,axis=0)\n",
        "varFrog=np.var(filledMatrixF,axis=0)\n",
        "Test_X=np.concatenate((filledMatrixATest, filledMatrixMTest), axis=0)\n",
        "Test_X = np.concatenate((Test_X, filledMatrixFTest), axis=0)\n",
        "\n",
        "\n",
        "\n",
        "\n",
        "\n",
        "\n",
        "\n",
        "\n"
      ]
    },
    {
      "cell_type": "markdown",
      "metadata": {
        "id": "K7bDvkX4Nh-8"
      },
      "source": [
        "<hr style=\"border:2px solid black\"> </hr>\n",
        "\n",
        "## Construct Naive Bayes classifier for each of the 3 classes.\n",
        "#### Test each classifier on all images in X_Test. \n",
        "#### Construct Confusion Matrix."
      ]
    },
    {
      "cell_type": "code",
      "execution_count": null,
      "metadata": {
        "id": "TVEquPNxNh-9"
      },
      "outputs": [],
      "source": [
        "def naiveBayes(arr, test):\n",
        "    mean = arr.mean(axis=0) \n",
        "    variance = arr.var(axis=0) \n",
        "    probabilities = []\n",
        "    for image in test: \n",
        "        pixels_prob = (1 / np.sqrt(2*np.pi*variance) ) * np.exp( (-(image - mean)**2)  / ( 2*variance ) )\n",
        "        probabilities.append(np.prod(pixels_prob))\n",
        "    return np.array(probabilities).reshape((3000,1))\n",
        "    \n",
        "def classifier (arr):\n",
        "  airCounter=0\n",
        "  frogCounter=0\n",
        "  automobileCounter=0\n",
        "  confusion_matrix_nb_32 = [[],[],[]]\n",
        "  for i in range(0,1000):\n",
        "    if (max(arr[i][0],arr[i][1],arr[i][2])==arr[i][0]):\n",
        "      airCounter = airCounter + 1\n",
        "    elif (max(arr[i][0],arr[i][1],arr[i][2])==arr[i][1]):\n",
        "      frogCounter+=1\n",
        "    else:\n",
        "      automobileCounter+=1\n",
        "  confusion_matrix_nb_32[0]=[airCounter,frogCounter,automobileCounter]\n",
        "  airCounter=0\n",
        "  frogCounter=0\n",
        "  automobileCounter=0\n",
        "  for i in range(1000,2000):\n",
        "    if (max(arr[i][0],arr[i][1],arr[i][2])==arr[i][0]):\n",
        "      airCounter = airCounter + 1\n",
        "    elif (max(arr[i][0],arr[i][1],arr[i][2])==arr[i][1]):\n",
        "      frogCounter+=1\n",
        "    else:\n",
        "      automobileCounter+=1\n",
        "  confusion_matrix_nb_32[1]=[airCounter,frogCounter,automobileCounter]\n",
        "  airCounter=0\n",
        "  frogCounter=0\n",
        "  automobileCounter=0\n",
        "  for i in range(2000,3000):\n",
        "    if (max(arr[i][0],arr[i][1],arr[i][2])==arr[i][0]):\n",
        "      airCounter = airCounter + 1\n",
        "    elif (max(arr[i][0],arr[i][1],arr[i][2])==arr[i][1]):\n",
        "      frogCounter+=1\n",
        "    else:\n",
        "      automobileCounter+=1\n",
        "  confusion_matrix_nb_32[2]=[airCounter,frogCounter,automobileCounter]\n",
        "  airCounter=0\n",
        "  frogCounter=0\n",
        "  automobileCounter=0\n",
        "  return confusion_matrix_nb_32\n",
        "\n"
      ]
    },
    {
      "cell_type": "code",
      "source": [
        "allNaive=np.concatenate((naiveBayes(filledMatrixA,Test_X),naiveBayes(filledMatrixM,Test_X)), axis=1)\n",
        "allNaive=np.concatenate((allNaive,naiveBayes(filledMatrixF,Test_X)),axis=1)\n",
        "confusion_matrix32nb = classifier(allNaive)\n",
        "confusion_matrix32nb=np.matrix(classifier(allNaive))\n",
        "\n"
      ],
      "metadata": {
        "colab": {
          "base_uri": "https://localhost:8080/"
        },
        "id": "BeimXegACzEv",
        "outputId": "6a35d1ce-22ad-4370-83c1-f593d4f99edd"
      },
      "execution_count": null,
      "outputs": [
        {
          "output_type": "stream",
          "name": "stderr",
          "text": [
            "/usr/local/lib/python3.7/dist-packages/numpy/core/fromnumeric.py:87: RuntimeWarning: overflow encountered in reduce\n",
            "  return ufunc.reduce(obj, axis, dtype, out, **passkwargs)\n"
          ]
        }
      ]
    },
    {
      "cell_type": "code",
      "execution_count": null,
      "metadata": {
        "id": "hCgkqgLQmJRv",
        "colab": {
          "base_uri": "https://localhost:8080/",
          "height": 343
        },
        "outputId": "dc80ba18-40fb-478b-9d11-e80446356da4"
      },
      "outputs": [
        {
          "output_type": "display_data",
          "data": {
            "image/png": "[encoded data removed]",
            "text/plain": [
              "<Figure size 360x360 with 1 Axes>"
            ]
          },
          "metadata": {
            "needs_background": "light"
          }
        }
      ],
      "source": [
        "accuracy = np.diag(confusion_matrix32).sum()/allNaive.shape[0]\n",
        "plt.rc('figure', figsize=[5,5])\n",
        "plt.matshow(confusion_matrix32,cmap=\"Blues\")\n",
        "plt.title('FLD+RGB = {0:0.3f}'.format(accuracy))\n",
        "for i in range(0,confusion_matrix32.shape[0]):\n",
        "    for j in range(0,confusion_matrix32.shape[1]):\n",
        "        plt.annotate(confusion_matrix32[i,j],(j,i))"
      ]
    },
    {
      "cell_type": "markdown",
      "metadata": {
        "id": "Nb81uplpNh--"
      },
      "source": [
        "<hr style=\"border:2px solid black\"> </hr>\n",
        "\n",
        "## Construct Gaussian Generative Model classifier for each of the 3 classes.\n",
        "#### Test each classifier on all images in X_Test. \n",
        "#### Construct Confusion Matrix."
      ]
    },
    {
      "cell_type": "code",
      "execution_count": null,
      "metadata": {
        "id": "NQZgONQQNh--"
      },
      "outputs": [],
      "source": [
        "N = 5000/15000\n",
        "S1 = ((filledMatrixA - MeanAirplane).T @ (filledMatrixA - MeanAirplane))\n",
        "S2 = ((filledMatrixM - MeanAuto).T @ (filledMatrixM - MeanAuto))\n",
        "S3 = ((filledMatrixF - MeanFrog).T @ (filledMatrixF - MeanFrog))\n",
        "S1.shape\n",
        "covariance = N * (S1 + S2 + S3)\n",
        "invCov = np.linalg.pinv(covariance)\n",
        "probgAir = np.zeros((3000,1))\n",
        "for i in range(0,3000):\n",
        "    temp = Test_X[i].reshape(-1,1).T - MeanAirplane.reshape(-1,1).T\n",
        "    pgAir = (temp @ invCov @ temp.T) \n",
        "    probgAir[i] = np.exp((pgAir* -0.5))\n",
        "  \n",
        "probgCar = np.zeros((3000,1))\n",
        "for i in range(0,3000):\n",
        "    temp = Test_X[i].reshape(-1,1).T - MeanAuto.reshape(-1,1).T\n",
        "    pgCar = (temp @ invCov @ temp.T) \n",
        "    probgCar[i] = np.exp((pgCar* -0.5))\n",
        "    \n",
        "probgFrog = np.zeros((3000,1))\n",
        "for i in range(0,3000):\n",
        "    temp = Test_X[i].reshape(-1,1).T - MeanFrog.reshape(-1,1).T\n",
        "    pgFrog = (temp @ invCov @ temp.T) \n",
        "    probgFrog[i] = np.exp((pgFrog* -0.5))\n",
        "    \n",
        "\n"
      ]
    },
    {
      "cell_type": "code",
      "source": [
        "gaussianTest = np.concatenate((probgAir,probgCar,probgFrog), axis=1)\n",
        "confusion_matrix32gm = classifier(gaussianTest)\n",
        "confusion_matrix32gm = np.matrix(classifier(gaussianTest))\n",
        "print(confusion_matrix32gm)\n"
      ],
      "metadata": {
        "id": "qV-F5pv5EgMS",
        "colab": {
          "base_uri": "https://localhost:8080/"
        },
        "outputId": "21744dd0-cce1-48dc-a21e-81845f5bd3cd"
      },
      "execution_count": null,
      "outputs": [
        {
          "output_type": "stream",
          "name": "stdout",
          "text": [
            "[[763 147  90]\n",
            " [200 656 144]\n",
            " [ 76 141 783]]\n"
          ]
        }
      ]
    },
    {
      "cell_type": "code",
      "source": [
        "gaussianTest16gm = np.concatenate((probgAir,probgCar,probgFrog), axis=1)\n",
        "confusion_matrix16gm = classifier(gaussianTest16gm)\n",
        "confusion_matrix16gm = np.matrix(classifier(gaussianTest16gm))\n",
        "print(confusion_matrix16gm)\n"
      ],
      "metadata": {
        "id": "2pF25jcwJh1S",
        "colab": {
          "base_uri": "https://localhost:8080/"
        },
        "outputId": "5a58c08c-a90d-4056-d3c0-400d6f71fe64"
      },
      "execution_count": null,
      "outputs": [
        {
          "output_type": "stream",
          "name": "stdout",
          "text": [
            "[[795 119  86]\n",
            " [165 712 123]\n",
            " [ 64 104 832]]\n"
          ]
        }
      ]
    },
    {
      "cell_type": "code",
      "source": [
        "gaussianTest8gm = np.concatenate((probgAir,probgCar,probgFrog), axis=1)\n",
        "confusion_matrix8gm = classifier(gaussianTest8gm)\n",
        "confusion_matrix8gm = np.matrix(classifier(gaussianTest8gm))\n",
        "print(confusion_matrix8gm)\n"
      ],
      "metadata": {
        "id": "ZBYWSL6bJrxV",
        "colab": {
          "base_uri": "https://localhost:8080/"
        },
        "outputId": "212d0e4f-bc1c-4346-ddfb-a47938fe4365"
      },
      "execution_count": null,
      "outputs": [
        {
          "output_type": "stream",
          "name": "stdout",
          "text": [
            "[[789 126  85]\n",
            " [175 705 120]\n",
            " [ 57 103 840]]\n"
          ]
        }
      ]
    },
    {
      "cell_type": "code",
      "source": [
        "gaussianTest4gm = np.concatenate((probgAir,probgCar,probgFrog), axis=1)\n",
        "confusion_matrix4gm = classifier(gaussianTest4gm)\n",
        "confusion_matrix4gm = np.matrix(classifier(gaussianTest4gm))\n",
        "print(confusion_matrix4gm)\n"
      ],
      "metadata": {
        "id": "RnPld8g2JvJm",
        "colab": {
          "base_uri": "https://localhost:8080/"
        },
        "outputId": "12e7bded-adf1-4ef5-8118-adc998eea4a3"
      },
      "execution_count": null,
      "outputs": [
        {
          "output_type": "stream",
          "name": "stdout",
          "text": [
            "[[780 151  69]\n",
            " [199 682 119]\n",
            " [ 53 120 827]]\n"
          ]
        }
      ]
    },
    {
      "cell_type": "code",
      "source": [
        "confusion_matrices_gm = [confusion_matrix32gm,confusion_matrix16gm, confusion_matrix8gm, confusion_matrix4gm]"
      ],
      "metadata": {
        "id": "uPDib8VdJyZC"
      },
      "execution_count": null,
      "outputs": []
    },
    {
      "cell_type": "code",
      "execution_count": null,
      "metadata": {
        "outputId": "f96792a9-f861-4180-c704-7f9c1a71ea6b",
        "colab": {
          "base_uri": "https://localhost:8080/",
          "height": 343
        },
        "id": "nugKsudJ2CO-"
      },
      "outputs": [
        {
          "output_type": "display_data",
          "data": {
            "image/png": "[encoded data removed]",
            "text/plain": [
              "<Figure size 360x360 with 1 Axes>"
            ]
          },
          "metadata": {
            "needs_background": "light"
          }
        }
      ],
      "source": [
        "accuracy = np.diag(confusion_matrix32).sum()/gaussianTest.shape[0]\n",
        "plt.rc('figure', figsize=[5,5])\n",
        "plt.matshow(confusion_matrix32,cmap=\"Blues\")\n",
        "plt.title('FLD+RGB = {0:0.3f}'.format(accuracy))\n",
        "for i in range(0,confusion_matrix32.shape[0]):\n",
        "    for j in range(0,confusion_matrix32.shape[1]):\n",
        "        plt.annotate(confusion_matrix32[i,j],(j,i))"
      ]
    },
    {
      "cell_type": "markdown",
      "metadata": {
        "id": "TrqXA_K9Nh--"
      },
      "source": [
        "<hr style=\"border:2px solid black\"> </hr>\n",
        "\n",
        "## Repeat previous two confusion matrices for image sizes 16,8,4.\n",
        "### Return confusion_matrices (array containing 8 matrices, 4 for naive bayes, 4 for gaussian generative model). \n",
        "#### confusion_matrices_nb = [confusion_matrix_nb_32, confusion_matrix_nb_16, confusion_matrix_nb_8, confusion_matrix_nb_4].\n",
        "#### confusion_matrices_gm = [confusion_matrix_gm_32, confusion_matrix_gm_16, confusion_matrix_gm_8, confusion_matrix_gm_4]."
      ]
    },
    {
      "cell_type": "code",
      "execution_count": null,
      "metadata": {
        "id": "-HhPl47lNh-_"
      },
      "outputs": [],
      "source": [
        "#confusion_matrices = confusion_matrices_nb + confusion_matrices_gm\n",
        "filledMatrixA16 = np.array([(cv2.resize(cv2.imread('Data/train/airplane/'+str(i)+'.jpg'),(16,16),interpolation=cv2.INTER_AREA)).reshape(-1) for i in range (0,5000)])/255\n",
        "filledMatrixATest16 = np.array([(cv2.resize(cv2.imread('Data/test/airplane/'+str(i)+'.jpg'),(16,16),interpolation=cv2.INTER_AREA)).reshape(-1) for i in range (0,1000)])/255\n",
        "\n",
        "filledMatrixM16 = np.array([(cv2.resize(cv2.imread('Data/train/automobile/'+str(i)+'.jpg'),(16,16),interpolation=cv2.INTER_AREA)).reshape(-1) for i in range (0,5000)])/255\n",
        "filledMatrixMTest16 = np.array([(cv2.resize(cv2.imread('Data/test/automobile/'+str(i)+'.jpg'),(16,16),interpolation=cv2.INTER_AREA)).reshape(-1) for i in range (0,1000)])/255\n",
        "\n",
        "filledMatrixF16 = np.array([(cv2.resize(cv2.imread('Data/train/frog/'+str(i)+'.jpg'),(16,16),interpolation=cv2.INTER_AREA)).reshape(-1) for i in range (0,5000)])/255\n",
        "filledMatrixFTest16 = np.array([(cv2.resize(cv2.imread('Data/test/frog/'+str(i)+'.jpg'),(16,16),interpolation=cv2.INTER_AREA)).reshape(-1) for i in range (0,1000)])/255\n",
        "\n",
        "Test_X16=np.concatenate((filledMatrixATest16, filledMatrixMTest16), axis=0)\n",
        "Test_X16 = np.concatenate((Test_X16, filledMatrixFTest16), axis=0)"
      ]
    },
    {
      "cell_type": "code",
      "source": [
        "\n",
        "filledMatrixA8 = np.array([(cv2.resize(cv2.imread('Data/train/airplane/'+str(i)+'.jpg'),(8,8),interpolation=cv2.INTER_AREA)).reshape(-1) for i in range (0,5000)])/255\n",
        "filledMatrixATest8 = np.array([(cv2.resize(cv2.imread('Data/test/airplane/'+str(i)+'.jpg'),(8,8),interpolation=cv2.INTER_AREA)).reshape(-1) for i in range (0,1000)])/255\n",
        "\n",
        "filledMatrixM8 = np.array([(cv2.resize(cv2.imread('Data/train/automobile/'+str(i)+'.jpg'),(8,8),interpolation=cv2.INTER_AREA)).reshape(-1) for i in range (0,5000)])/255\n",
        "filledMatrixMTest8 = np.array([(cv2.resize(cv2.imread('Data/test/automobile/'+str(i)+'.jpg'),(8,8),interpolation=cv2.INTER_AREA)).reshape(-1) for i in range (0,1000)])/255\n",
        "\n",
        "filledMatrixF8 = np.array([(cv2.resize(cv2.imread('Data/train/frog/'+str(i)+'.jpg'),(8,8),interpolation=cv2.INTER_AREA)).reshape(-1) for i in range (0,5000)])/255\n",
        "filledMatrixFTest8 = np.array([(cv2.resize(cv2.imread('Data/test/frog/'+str(i)+'.jpg'),(8,8),interpolation=cv2.INTER_AREA)).reshape(-1) for i in range (0,1000)])/255\n",
        "\n",
        "Test_X8=np.concatenate((filledMatrixATest8, filledMatrixMTest8), axis=0)\n",
        "Test_X8 = np.concatenate((Test_X8, filledMatrixFTest8), axis=0)"
      ],
      "metadata": {
        "id": "CEaVEFpwFrF1"
      },
      "execution_count": null,
      "outputs": []
    },
    {
      "cell_type": "code",
      "source": [
        "\n",
        "filledMatrixA4 = np.array([(cv2.resize(cv2.imread('Data/train/airplane/'+str(i)+'.jpg'),(4,4),interpolation=cv2.INTER_AREA)).reshape(-1) for i in range (0,5000)])/255\n",
        "filledMatrixATest4 = np.array([(cv2.resize(cv2.imread('Data/test/airplane/'+str(i)+'.jpg'),(4,4),interpolation=cv2.INTER_AREA)).reshape(-1) for i in range (0,1000)])/255\n",
        "\n",
        "filledMatrixM4 = np.array([(cv2.resize(cv2.imread('Data/train/automobile/'+str(i)+'.jpg'),(4,4),interpolation=cv2.INTER_AREA)).reshape(-1) for i in range (0,5000)])/255\n",
        "filledMatrixMTest4 = np.array([(cv2.resize(cv2.imread('Data/test/automobile/'+str(i)+'.jpg'),(4,4),interpolation=cv2.INTER_AREA)).reshape(-1) for i in range (0,1000)])/255\n",
        "\n",
        "filledMatrixF4 = np.array([(cv2.resize(cv2.imread('Data/train/frog/'+str(i)+'.jpg'),(4,4),interpolation=cv2.INTER_AREA)).reshape(-1) for i in range (0,5000)])/255\n",
        "filledMatrixFTest4 = np.array([(cv2.resize(cv2.imread('Data/test/frog/'+str(i)+'.jpg'),(4,4),interpolation=cv2.INTER_AREA)).reshape(-1) for i in range (0,1000)])/255\n",
        "Test_X4=np.concatenate((filledMatrixATest4, filledMatrixMTest4), axis=0)\n",
        "Test_X4 = np.concatenate((Test_X4, filledMatrixFTest4), axis=0)"
      ],
      "metadata": {
        "id": "hKyvoBgaHNc_"
      },
      "execution_count": null,
      "outputs": []
    },
    {
      "cell_type": "code",
      "source": [
        "allNaive16=np.concatenate((naiveBayes(filledMatrixA16,Test_X16),naiveBayes(filledMatrixM16,Test_X16)), axis=1)\n",
        "allNaive16=np.concatenate((allNaive16,naiveBayes(filledMatrixF16,Test_X16)),axis=1)\n",
        "confusion_matrix16nb = classifier(allNaive16)\n",
        "confusion_matrix16nb=np.matrix(classifier(allNaive16))\n",
        "print(confusion_matrix16nb)\n"
      ],
      "metadata": {
        "id": "L1cBJLdgDCr3",
        "colab": {
          "base_uri": "https://localhost:8080/"
        },
        "outputId": "47ec5e3a-6b6f-4717-b7f5-b0b788d48c2d"
      },
      "execution_count": null,
      "outputs": [
        {
          "output_type": "stream",
          "name": "stdout",
          "text": [
            "[[723 131 146]\n",
            " [255 429 316]\n",
            " [170  53 777]]\n"
          ]
        }
      ]
    },
    {
      "cell_type": "code",
      "source": [
        "allNaive8=np.concatenate((naiveBayes(filledMatrixA8,Test_X8),naiveBayes(filledMatrixM8,Test_X8)), axis=1)\n",
        "allNaive8=np.concatenate((allNaive8,naiveBayes(filledMatrixF8,Test_X8)),axis=1)\n",
        "confusion_matrix8nb = classifier(allNaive8)\n",
        "confusion_matrix8nb = np.matrix(classifier(allNaive8))\n",
        "print(confusion_matrix8nb)\n"
      ],
      "metadata": {
        "id": "C_2JsIWZHAKf",
        "colab": {
          "base_uri": "https://localhost:8080/"
        },
        "outputId": "e620e667-e950-4d76-f47b-cad6cc84620b"
      },
      "execution_count": null,
      "outputs": [
        {
          "output_type": "stream",
          "name": "stdout",
          "text": [
            "[[713 146 141]\n",
            " [254 420 326]\n",
            " [165  56 779]]\n"
          ]
        }
      ]
    },
    {
      "cell_type": "code",
      "source": [
        "allNaive4=np.concatenate((naiveBayes(filledMatrixA4,Test_X4),naiveBayes(filledMatrixM4,Test_X4)), axis=1)\n",
        "allNaive4=np.concatenate((allNaive4,naiveBayes(filledMatrixF4,Test_X4)),axis=1)\n",
        "confusion_matrix4nb = classifier(allNaive4)\n",
        "confusion_matrix4nb = np.matrix(classifier(allNaive4))\n",
        "print(confusion_matrix4nb)\n"
      ],
      "metadata": {
        "id": "3FUIexTaHixs",
        "colab": {
          "base_uri": "https://localhost:8080/"
        },
        "outputId": "7918e063-f063-4f3e-d2fd-ff3c1e32c916"
      },
      "execution_count": null,
      "outputs": [
        {
          "output_type": "stream",
          "name": "stdout",
          "text": [
            "[[681 182 137]\n",
            " [256 381 363]\n",
            " [164  61 775]]\n"
          ]
        }
      ]
    },
    {
      "cell_type": "code",
      "source": [
        "confusion_matrices_nb = [confusion_matrix32nb,confusion_matrix16nb, confusion_matrix8nb, confusion_matrix4nb]"
      ],
      "metadata": {
        "id": "QpC_dvTUKEfK"
      },
      "execution_count": null,
      "outputs": []
    },
    {
      "cell_type": "code",
      "execution_count": null,
      "metadata": {
        "id": "XmRpi2iqIomV"
      },
      "outputs": [],
      "source": [
        "#confusion_matrices = confusion_matrices_nb + confusion_matrices_gm\n",
        "filledMatrixA = np.array([(cv2.resize(cv2.imread('Data/train/airplane/'+str(i)+'.jpg'),(16,16),interpolation=cv2.INTER_AREA)).reshape(-1) for i in range (0,5000)])/255\n",
        "filledMatrixATest = np.array([(cv2.resize(cv2.imread('Data/test/airplane/'+str(i)+'.jpg'),(16,16),interpolation=cv2.INTER_AREA)).reshape(-1) for i in range (0,1000)])/255\n",
        "\n",
        "filledMatrixM = np.array([(cv2.resize(cv2.imread('Data/train/automobile/'+str(i)+'.jpg'),(16,16),interpolation=cv2.INTER_AREA)).reshape(-1) for i in range (0,5000)])/255\n",
        "filledMatrixMTest = np.array([(cv2.resize(cv2.imread('Data/test/automobile/'+str(i)+'.jpg'),(16,16),interpolation=cv2.INTER_AREA)).reshape(-1) for i in range (0,1000)])/255\n",
        "\n",
        "filledMatrixF = np.array([(cv2.resize(cv2.imread('Data/train/frog/'+str(i)+'.jpg'),(16,16),interpolation=cv2.INTER_AREA)).reshape(-1) for i in range (0,5000)])/255\n",
        "filledMatrixFTest = np.array([(cv2.resize(cv2.imread('Data/test/frog/'+str(i)+'.jpg'),(16,16),interpolation=cv2.INTER_AREA)).reshape(-1) for i in range (0,1000)])/255\n",
        "MeanAirplane=np.mean(filledMatrixA,axis=0)\n",
        "MeanAuto=np.mean(filledMatrixM,axis=0)\n",
        "MeanFrog=np.mean(filledMatrixF,axis=0)\n",
        "varAirplane=np.var(filledMatrixA,axis=0)\n",
        "varAuto=np.var(filledMatrixM,axis=0)\n",
        "varFrog=np.var(filledMatrixF,axis=0)\n",
        "Test_X=np.concatenate((filledMatrixATest, filledMatrixMTest), axis=0)\n",
        "Test_X = np.concatenate((Test_X, filledMatrixFTest), axis=0)"
      ]
    },
    {
      "cell_type": "code",
      "execution_count": null,
      "metadata": {
        "id": "QB3jJ4ZeJDyb"
      },
      "outputs": [],
      "source": [
        "#confusion_matrices = confusion_matrices_nb + confusion_matrices_gm\n",
        "filledMatrixA = np.array([(cv2.resize(cv2.imread('Data/train/airplane/'+str(i)+'.jpg'),(8,8),interpolation=cv2.INTER_AREA)).reshape(-1) for i in range (0,5000)])/255\n",
        "filledMatrixATest = np.array([(cv2.resize(cv2.imread('Data/test/airplane/'+str(i)+'.jpg'),(8,8),interpolation=cv2.INTER_AREA)).reshape(-1) for i in range (0,1000)])/255\n",
        "\n",
        "filledMatrixM = np.array([(cv2.resize(cv2.imread('Data/train/automobile/'+str(i)+'.jpg'),(8,8),interpolation=cv2.INTER_AREA)).reshape(-1) for i in range (0,5000)])/255\n",
        "filledMatrixMTest = np.array([(cv2.resize(cv2.imread('Data/test/automobile/'+str(i)+'.jpg'),(8,8),interpolation=cv2.INTER_AREA)).reshape(-1) for i in range (0,1000)])/255\n",
        "\n",
        "filledMatrixF = np.array([(cv2.resize(cv2.imread('Data/train/frog/'+str(i)+'.jpg'),(8,8),interpolation=cv2.INTER_AREA)).reshape(-1) for i in range (0,5000)])/255\n",
        "filledMatrixFTest = np.array([(cv2.resize(cv2.imread('Data/test/frog/'+str(i)+'.jpg'),(8,8),interpolation=cv2.INTER_AREA)).reshape(-1) for i in range (0,1000)])/255\n",
        "MeanAirplane=np.mean(filledMatrixA,axis=0)\n",
        "MeanAuto=np.mean(filledMatrixM,axis=0)\n",
        "MeanFrog=np.mean(filledMatrixF,axis=0)\n",
        "varAirplane=np.var(filledMatrixA,axis=0)\n",
        "varAuto=np.var(filledMatrixM,axis=0)\n",
        "varFrog=np.var(filledMatrixF,axis=0)\n",
        "Test_X=np.concatenate((filledMatrixATest, filledMatrixMTest), axis=0)\n",
        "Test_X = np.concatenate((Test_X, filledMatrixFTest), axis=0)"
      ]
    },
    {
      "cell_type": "code",
      "execution_count": null,
      "metadata": {
        "id": "AlMmInQHJL2t"
      },
      "outputs": [],
      "source": [
        "#confusion_matrices = confusion_matrices_nb + confusion_matrices_gm\n",
        "filledMatrixA = np.array([(cv2.resize(cv2.imread('Data/train/airplane/'+str(i)+'.jpg'),(4,4),interpolation=cv2.INTER_AREA)).reshape(-1) for i in range (0,5000)])/255\n",
        "filledMatrixATest = np.array([(cv2.resize(cv2.imread('Data/test/airplane/'+str(i)+'.jpg'),(4,4),interpolation=cv2.INTER_AREA)).reshape(-1) for i in range (0,1000)])/255\n",
        "\n",
        "filledMatrixM = np.array([(cv2.resize(cv2.imread('Data/train/automobile/'+str(i)+'.jpg'),(4,4),interpolation=cv2.INTER_AREA)).reshape(-1) for i in range (0,5000)])/255\n",
        "filledMatrixMTest = np.array([(cv2.resize(cv2.imread('Data/test/automobile/'+str(i)+'.jpg'),(4,4),interpolation=cv2.INTER_AREA)).reshape(-1) for i in range (0,1000)])/255\n",
        "\n",
        "filledMatrixF = np.array([(cv2.resize(cv2.imread('Data/train/frog/'+str(i)+'.jpg'),(4,4),interpolation=cv2.INTER_AREA)).reshape(-1) for i in range (0,5000)])/255\n",
        "filledMatrixFTest = np.array([(cv2.resize(cv2.imread('Data/test/frog/'+str(i)+'.jpg'),(4,4),interpolation=cv2.INTER_AREA)).reshape(-1) for i in range (0,1000)])/255\n",
        "MeanAirplane=np.mean(filledMatrixA,axis=0)\n",
        "MeanAuto=np.mean(filledMatrixM,axis=0)\n",
        "MeanFrog=np.mean(filledMatrixF,axis=0)\n",
        "varAirplane=np.var(filledMatrixA,axis=0)\n",
        "varAuto=np.var(filledMatrixM,axis=0)\n",
        "varFrog=np.var(filledMatrixF,axis=0)\n",
        "Test_X=np.concatenate((filledMatrixATest, filledMatrixMTest), axis=0)\n",
        "Test_X = np.concatenate((Test_X, filledMatrixFTest), axis=0)"
      ]
    },
    {
      "cell_type": "code",
      "source": [
        "confusion_matrices = confusion_matrices_nb + confusion_matrices_gm"
      ],
      "metadata": {
        "id": "3Q4hU1M2KePi"
      },
      "execution_count": null,
      "outputs": []
    },
    {
      "cell_type": "markdown",
      "metadata": {
        "id": "ZTJSOZ7NNh-_"
      },
      "source": [
        "<hr style=\"border:2px solid black\"> </hr>\n",
        "\n",
        "## The below 2 cells will only work if you return confusion_matrices (previous cell) with all 8 matrices in it.\n",
        "## Please don't edit the below cells.\n",
        "## Please run them and save the notebook before uploading so the script can check the saved image.\n",
        "## Please don't change the order of the matrices.\n"
      ]
    },
    {
      "cell_type": "code",
      "execution_count": null,
      "metadata": {
        "id": "xW98JWQQNh-_",
        "colab": {
          "base_uri": "https://localhost:8080/",
          "height": 648
        },
        "outputId": "4dee9a89-5f1b-46bb-f5e7-0adceefc6cd6"
      },
      "outputs": [
        {
          "output_type": "display_data",
          "data": {
            "image/png": "[encoded data removed]",
            "text/plain": [
              "<Figure size 1440x720 with 8 Axes>"
            ]
          },
          "metadata": {}
        }
      ],
      "source": [
        "dims = [32,16,8,4,32,16,8,4]\n",
        "fig, axs = plt.subplots(2, 4,figsize=(20,10))\n",
        "fig.suptitle(\"Confusion Matrix for each Scale\",fontsize=30)\n",
        "for pi in range(0,axs.shape[0]):\n",
        "    for pj in range(0,axs.shape[1]):\n",
        "        index = np.round(pi*4+pj)\n",
        "        cm = confusion_matrices[index]\n",
        "        axs[pi,pj].matshow(cm,cmap=\"Blues\")\n",
        "        axs[pi,pj].set_title(\"For d=\"+str(dims[index])+\" ,acc=\"+str(np.round(np.diag(cm).sum()/3000,3)),fontsize=20)\n",
        "        for i in range(0,cm.shape[0]):\n",
        "            for j in range(0,cm.shape[1]):\n",
        "                axs[pi,pj].set_xticks([])\n",
        "                axs[pi,pj].set_yticks([])\n",
        "                axs[pi,pj].annotate(cm[i,j],(j,i))"
      ]
    },
    {
      "cell_type": "code",
      "execution_count": null,
      "metadata": {
        "id": "MajCwCMxNh_A",
        "colab": {
          "base_uri": "https://localhost:8080/",
          "height": 638
        },
        "outputId": "fd35288b-aa7d-435e-e970-0896b93525d9"
      },
      "outputs": [
        {
          "output_type": "execute_result",
          "data": {
            "text/plain": [
              "Text(0.5, 1.0, 'NB VS GM')"
            ]
          },
          "metadata": {},
          "execution_count": 66
        },
        {
          "output_type": "display_data",
          "data": {
            "image/png": "[encoded data removed]",
            "text/plain": [
              "<Figure size 1440x720 with 1 Axes>"
            ]
          },
          "metadata": {
            "needs_background": "light"
          }
        }
      ],
      "source": [
        "plt.figure(figsize=(20,10))\n",
        "plt.plot(dims[:4],[np.diag(cm).sum()/3000 for cm in confusion_matrices_nb],color='orange')\n",
        "plt.plot(dims[:4],[np.diag(cm).sum()/3000 for cm in confusion_matrices_gm],color='blue')\n",
        "plt.xlabel('Scale')\n",
        "plt.ylabel('Accuracy')\n",
        "plt.title('NB VS GM')"
      ]
    },
    {
      "cell_type": "markdown",
      "metadata": {
        "id": "gySYLuMJNh_A"
      },
      "source": [
        "<hr style=\"border:2px solid black\"> </hr>\n",
        "\n",
        "## Comment on the results ##\n",
        "\n",
        " \n",
        "As apparent on the final graph, the Gaussian method is much more accurate than the naive Baye's method. The reason for this result is that the Baye's method assumes that the features that differentiates the classes from each other are independant, however, this assumption is not realistic therefore resulting in lower accuracy when compared with the Gaussian method which does not use this assumption.\n"
      ]
    }
  ],
  "metadata": {
    "colab": {
      "collapsed_sections": [],
      "name": "Assignment_2.ipynb",
      "provenance": []
    },
    "interpreter": {
      "hash": "31f2aee4e71d21fbe5cf8b01ff0e069b9275f58929596ceb00d14d90e3e16cd6"
    },
    "kernelspec": {
      "display_name": "Python 3",
      "language": "python",
      "name": "python3"
    },
    "language_info": {
      "codemirror_mode": {
        "name": "ipython",
        "version": 3
      },
      "file_extension": ".py",
      "mimetype": "text/x-python",
      "name": "python",
      "nbconvert_exporter": "python",
      "pygments_lexer": "ipython3",
      "version": "3.6.13"
    }
  },
  "nbformat": 4,
  "nbformat_minor": 0
}